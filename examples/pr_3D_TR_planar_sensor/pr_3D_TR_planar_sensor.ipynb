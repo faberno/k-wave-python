{
 "cells": [
  {
   "cell_type": "code",
   "id": "initial_id",
   "metadata": {
    "collapsed": true
   },
   "source": [
    "%%capture\n",
    "!pip install k-wave-python "
   ],
   "outputs": [],
   "execution_count": null
  },
  {
   "metadata": {},
   "cell_type": "code",
   "source": [
    "from kwave.data import Vector\n",
    "from kwave.kgrid import kWaveGrid\n",
    "from kwave.kmedium import kWaveMedium\n",
    "from kwave.ksensor import kSensor\n",
    "from kwave.ksource import kSource\n",
    "from kwave.kspaceFirstOrder3D import kspaceFirstOrder3D\n",
    "from kwave.options.simulation_execution_options import SimulationExecutionOptions\n",
    "from kwave.options.simulation_options import SimulationOptions\n",
    "from kwave.utils.colormap import get_color_map\n",
    "from kwave.utils.mapgen import make_ball\n",
    "from kwave.utils.filters import smooth\n",
    "\n",
    "import matplotlib.pyplot as plt\n",
    "import numpy as np"
   ],
   "id": "6a6cdd4e64365d3e",
   "outputs": [],
   "execution_count": null
  },
  {
   "metadata": {},
   "cell_type": "markdown",
   "source": [
    "## 3D FFT Reconstruction For A Planar Sensor Example\n",
    "\n",
    "This example demonstrates the use of k-Wave for the reconstruction of a three-dimensional photoacoustic wave-field recorded  over a planar array of sensor elements.  The sensor data is simulated and then time-reversed using kspaceFirstOrder3D. It builds on the 3D FFT Reconstruction For A Planar Sensor and 2D Time Reversal Reconstruction For A Line Sensor examples."
   ],
   "id": "e7d1f7d7d6481a2c"
  },
  {
   "metadata": {},
   "cell_type": "markdown",
   "source": "### SIMULATION",
   "id": "4a805d6488afc4b7"
  },
  {
   "metadata": {},
   "cell_type": "code",
   "source": [
    "# change scale to 2 to reproduce the higher resolution figures used in the\n",
    "# help file\n",
    "scale = 1"
   ],
   "id": "b8f9b1f3d5bef716",
   "outputs": [],
   "execution_count": null
  },
  {
   "metadata": {},
   "cell_type": "code",
   "source": [
    "# create the computational grid\n",
    "PML_size = 10                  # size of the PML in grid points\n",
    "N = Vector([32, 64, 64]) * scale - 2 * PML_size # number of grid points\n",
    "d = Vector([0.2e-3, 0.2e-3, 0.2e-3]) / scale            # grid point spacing [m]\n",
    "kgrid = kWaveGrid(N, d)"
   ],
   "id": "249a1bd033f3abe7",
   "outputs": [],
   "execution_count": null
  },
  {
   "metadata": {},
   "cell_type": "code",
   "source": [
    "# define the properties of the propagation medium\n",
    "medium = kWaveMedium(sound_speed=1500)  # [m/s]"
   ],
   "id": "25d647c865e569b",
   "outputs": [],
   "execution_count": null
  },
  {
   "metadata": {},
   "cell_type": "code",
   "source": [
    "# create initial pressure distribution using makeBall\n",
    "ball_magnitude = 10            # [Pa]\n",
    "ball_radius = 3 * scale        # [grid points]\n",
    "p0 = ball_magnitude * make_ball(N, N / 2, ball_radius)\n",
    "\n",
    "# smooth the initial pressure distribution and restore the magnitude\n",
    "p0 = smooth(p0, True)\n",
    "\n",
    "# assign to the source structure\n",
    "source = kSource()\n",
    "source.p0 = p0"
   ],
   "id": "cb75ff29974130cf",
   "outputs": [],
   "execution_count": null
  },
  {
   "metadata": {},
   "cell_type": "code",
   "source": [
    "# define a binary planar sensor\n",
    "sensor = kSensor()\n",
    "sensor.mask = np.zeros(N)\n",
    "sensor.mask[0] = 1"
   ],
   "id": "9eedddfe4204cea5",
   "outputs": [],
   "execution_count": null
  },
  {
   "metadata": {},
   "cell_type": "code",
   "source": [
    "%%capture\n",
    "\n",
    "# create the time array\n",
    "kgrid.makeTime(medium.sound_speed)"
   ],
   "id": "7ea0924151a96a6f",
   "outputs": [],
   "execution_count": null
  },
  {
   "metadata": {},
   "cell_type": "code",
   "source": [
    "# set the input arguements\n",
    "simulation_options = SimulationOptions(\n",
    "save_to_disk=True,\n",
    "pml_size=PML_size,\n",
    "pml_inside=False,\n",
    "smooth_p0=False,\n",
    "data_cast='single',\n",
    ")\n",
    "execution_options = SimulationExecutionOptions(is_gpu_simulation=True)"
   ],
   "id": "7ad7415e71716b05",
   "outputs": [],
   "execution_count": null
  },
  {
   "metadata": {},
   "cell_type": "code",
   "source": [
    "# run the simulation\n",
    "sensor_data = kspaceFirstOrder3D(kgrid, source, sensor, medium, simulation_options, execution_options)\n",
    "sensor_data = sensor_data['p'].T"
   ],
   "id": "192d9eeefd209077",
   "outputs": [],
   "execution_count": null
  },
  {
   "metadata": {},
   "cell_type": "code",
   "source": [
    "# reset the initial pressure\n",
    "source = kSource()\n",
    "sensor = kSensor()\n",
    "sensor.mask = np.zeros(N)\n",
    "sensor.mask[0] = 1\n",
    "\n",
    "# assign the time reversal data\n",
    "sensor.time_reversal_boundary_data = sensor_data\n",
    "\n",
    "# run the time-reversal reconstruction\n",
    "p0_recon = kspaceFirstOrder3D(kgrid, source, sensor, medium, simulation_options, execution_options)\n",
    "p0_recon = p0_recon['p_final'].T\n",
    "\n",
    "# add first order compensation for only recording over a half plane\n",
    "p0_recon = 2 * p0_recon\n",
    "\n",
    "# apply a positivity condition\n",
    "p0_recon[p0_recon < 0] = 0"
   ],
   "id": "790676732e5f078c",
   "outputs": [],
   "execution_count": null
  },
  {
   "metadata": {},
   "cell_type": "markdown",
   "source": "### VISUALIZATION",
   "id": "7bc3a5e3b2f4571"
  },
  {
   "metadata": {},
   "cell_type": "code",
   "source": "cmap = get_color_map()",
   "id": "7f16ca4a29e4b671",
   "outputs": [],
   "execution_count": null
  },
  {
   "metadata": {},
   "cell_type": "code",
   "source": [
    "plot_scale = [-10, 10]\n",
    "\n",
    "# plot the initial pressure\n",
    "fig, axs = plt.subplots(2, 2)\n",
    "axs[0, 0].imshow(p0[:, :, N[2] // 2],\n",
    "         extent=[kgrid.y_vec.min() * 1e3, kgrid.y_vec.max() * 1e3, kgrid.x_vec.max() * 1e3, kgrid.x_vec.min() * 1e3],\n",
    "         vmin=plot_scale[0], vmax=plot_scale[1], cmap=cmap)\n",
    "axs[0, 0].set_title('x-y plane')\n",
    "axs[0, 0].axis('image')\n",
    "\n",
    "axs[0, 1].imshow(p0[:, N[1] // 2, :],\n",
    "         extent=[kgrid.z_vec.min() * 1e3, kgrid.z_vec.max() * 1e3, kgrid.x_vec.max() * 1e3, kgrid.x_vec.min() * 1e3],\n",
    "         vmin=plot_scale[0], vmax=plot_scale[1], cmap=cmap)\n",
    "axs[0, 1].set_title('x-z plane')\n",
    "axs[0, 1].axis('image')\n",
    "\n",
    "axs[1, 0].imshow(p0[N[0] // 2, :, :],\n",
    "         extent=[kgrid.z_vec.min() * 1e3, kgrid.z_vec.max() * 1e3, kgrid.y_vec.max() * 1e3, kgrid.y_vec.min() * 1e3],\n",
    "         vmin=plot_scale[0], vmax=plot_scale[1], cmap=cmap)\n",
    "axs[1, 0].set_title('y-z plane')\n",
    "axs[1, 0].axis('image')\n",
    "\n",
    "axs[1, 1].axis('off')\n",
    "axs[1, 1].set_title('(All axes in mm)')\n",
    "\n",
    "plt.show()"
   ],
   "id": "ac432a6b8e284bda",
   "outputs": [],
   "execution_count": null
  },
  {
   "metadata": {},
   "cell_type": "code",
   "source": [
    "# plot the reconstructed initial pressure\n",
    "fig, axs = plt.subplots(2, 2)\n",
    "axs[0, 0].imshow(p0_recon[:, :, N[2] // 2],\n",
    "         extent=[kgrid.y_vec.min() * 1e3, kgrid.y_vec.max() * 1e3, kgrid.x_vec.max() * 1e3, kgrid.x_vec.min() * 1e3],\n",
    "         vmin=plot_scale[0], vmax=plot_scale[1], cmap=cmap)\n",
    "axs[0, 0].set_title('x-y plane')\n",
    "axs[0, 0].axis('image')\n",
    "\n",
    "axs[0, 1].imshow(p0_recon[:, N[1] // 2, :],\n",
    "         extent=[kgrid.z_vec.min() * 1e3, kgrid.z_vec.max() * 1e3, kgrid.x_vec.max() * 1e3, kgrid.x_vec.min() * 1e3],\n",
    "         vmin=plot_scale[0], vmax=plot_scale[1], cmap=cmap)\n",
    "axs[0, 1].set_title('x-z plane')\n",
    "axs[0, 1].axis('image')\n",
    "\n",
    "axs[1, 0].imshow(p0_recon[N[0] // 2, :, :],\n",
    "         extent=[kgrid.z_vec.min() * 1e3, kgrid.z_vec.max() * 1e3, kgrid.y_vec.max() * 1e3, kgrid.y_vec.min() * 1e3],\n",
    "         vmin=plot_scale[0], vmax=plot_scale[1], cmap=cmap)\n",
    "axs[1, 0].set_title('y-z plane')\n",
    "axs[1, 0].axis('image')\n",
    "\n",
    "axs[1, 1].axis('off')\n",
    "axs[1, 1].set_title('(All axes in mm)')\n",
    "\n",
    "plt.show()"
   ],
   "id": "e946817f00b55e9e",
   "outputs": [],
   "execution_count": null
  }
 ],
 "metadata": {
  "kernelspec": {
   "display_name": "Python 3",
   "language": "python",
   "name": "python3"
  },
  "language_info": {
   "codemirror_mode": {
    "name": "ipython",
    "version": 2
   },
   "file_extension": ".py",
   "mimetype": "text/x-python",
   "name": "python",
   "nbconvert_exporter": "python",
   "pygments_lexer": "ipython2",
   "version": "2.7.6"
  }
 },
 "nbformat": 4,
 "nbformat_minor": 5
}
